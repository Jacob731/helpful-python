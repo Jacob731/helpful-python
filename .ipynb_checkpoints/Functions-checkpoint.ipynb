{
 "cells": [
  {
   "cell_type": "code",
   "execution_count": 1,
   "metadata": {},
   "outputs": [],
   "source": [
    "import pandas as pd\n",
    "pd.set_option('display.max_columns',150)\n",
    "import re \n"
   ]
  },
  {
   "cell_type": "code",
   "execution_count": null,
   "metadata": {},
   "outputs": [],
   "source": [
    "# this function will clean the column names of a df to make it more friendly to use \n",
    "# this functinon will take the name of the df as the paramter \n",
    "# this function only keeps words or digits, removes additional spaces,replaces spaces with underscores, and converts the field names to lowercase\n",
    "# this functino will update the df field names with the cleaned names produced by the function \n",
    "\n",
    "def clean_columns(df):\n",
    "    cols = df.columns\n",
    "    cols = cols.str.replace(r'[^\\w\\s]',\"\")\n",
    "    cols = cols.str.replace('  ',' ')\n",
    "    cols = cols.str.replace(' ','_')\n",
    "    cols = cols.str.lower()\n",
    "# updating column names with cleaned names    \n",
    "    df.columns = cols\n",
    "    \n",
    "    return print(data.columns.values) "
   ]
  }
 ],
 "metadata": {
  "kernelspec": {
   "display_name": "Python 3",
   "language": "python",
   "name": "python3"
  },
  "language_info": {
   "codemirror_mode": {
    "name": "ipython",
    "version": 3
   },
   "file_extension": ".py",
   "mimetype": "text/x-python",
   "name": "python",
   "nbconvert_exporter": "python",
   "pygments_lexer": "ipython3",
   "version": "3.6.5"
  }
 },
 "nbformat": 4,
 "nbformat_minor": 2
}
