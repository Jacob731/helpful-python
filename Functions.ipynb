{
 "cells": [
  {
   "cell_type": "code",
   "execution_count": 84,
   "metadata": {},
   "outputs": [],
   "source": [
    "import pandas as pd\n",
    "pd.set_option('display.max_columns',150)\n",
    "import re "
   ]
  },
  {
   "cell_type": "code",
   "execution_count": 85,
   "metadata": {},
   "outputs": [],
   "source": [
    "# this function will clean the column names of a df to make it more friendly to use \n",
    "# this functinon will take the name of the df as the paramter \n",
    "# this function only keeps words or digits, removes additional spaces,replaces spaces with underscores, and converts the field names to lowercase\n",
    "# this functino will update the df field names with the cleaned names produced by the function \n",
    "\n",
    "def clean_columns(df):\n",
    "    cols = df.columns\n",
    "    cols = cols.str.replace(r'[^\\w\\s]',\"\")\n",
    "    cols = cols.str.strip()\n",
    "    cols = cols.str.replace('  ',' ')\n",
    "    cols = cols.str.replace(' ','_')\n",
    "    cols = cols.str.lower()\n",
    "# updating column names with cleaned names    \n",
    "    df.columns = cols\n",
    "    \n",
    "    return print(df.columns.values) "
   ]
  },
  {
   "cell_type": "code",
   "execution_count": 86,
   "metadata": {},
   "outputs": [
    {
     "data": {
      "text/html": [
       "<div>\n",
       "<style scoped>\n",
       "    .dataframe tbody tr th:only-of-type {\n",
       "        vertical-align: middle;\n",
       "    }\n",
       "\n",
       "    .dataframe tbody tr th {\n",
       "        vertical-align: top;\n",
       "    }\n",
       "\n",
       "    .dataframe thead th {\n",
       "        text-align: right;\n",
       "    }\n",
       "</style>\n",
       "<table border=\"1\" class=\"dataframe\">\n",
       "  <thead>\n",
       "    <tr style=\"text-align: right;\">\n",
       "      <th></th>\n",
       "      <th>Day of Week</th>\n",
       "      <th>\"Number of Crashes\"</th>\n",
       "    </tr>\n",
       "  </thead>\n",
       "  <tbody>\n",
       "    <tr>\n",
       "      <th>0</th>\n",
       "      <td>Sunday</td>\n",
       "      <td>13664</td>\n",
       "    </tr>\n",
       "    <tr>\n",
       "      <th>1</th>\n",
       "      <td>Monday</td>\n",
       "      <td>17279</td>\n",
       "    </tr>\n",
       "    <tr>\n",
       "      <th>2</th>\n",
       "      <td>Tuesday</td>\n",
       "      <td>17337</td>\n",
       "    </tr>\n",
       "  </tbody>\n",
       "</table>\n",
       "</div>"
      ],
      "text/plain": [
       "  Day of Week   \"Number of Crashes\"\n",
       "0      Sunday                 13664\n",
       "1      Monday                 17279\n",
       "2     Tuesday                 17337"
      ]
     },
     "execution_count": 86,
     "metadata": {},
     "output_type": "execute_result"
    }
   ],
   "source": [
    "# example of function output \n",
    "file = 'https://people.sc.fsu.edu/~jburkardt/data/csv/crash_catalonia.csv'\n",
    "test_df = pd.read_csv(file)\n",
    "test_df.head(3)"
   ]
  },
  {
   "cell_type": "code",
   "execution_count": 87,
   "metadata": {},
   "outputs": [
    {
     "name": "stdout",
     "output_type": "stream",
     "text": [
      "Below are the original column names:\n",
      "['Day of Week' ' \"Number of Crashes\"']\n",
      " \n",
      "Below are the cleaned column names:\n",
      "['day_of_week' 'number_of_crashes']\n"
     ]
    }
   ],
   "source": [
    "print('Below are the original column names:')\n",
    "print(test_df.columns.values)\n",
    "print(' ')\n",
    "\n",
    "print('Below are the cleaned column names:')\n",
    "clean_columns(test_df)"
   ]
  }
 ],
 "metadata": {
  "kernelspec": {
   "display_name": "Python 3",
   "language": "python",
   "name": "python3"
  },
  "language_info": {
   "codemirror_mode": {
    "name": "ipython",
    "version": 3
   },
   "file_extension": ".py",
   "mimetype": "text/x-python",
   "name": "python",
   "nbconvert_exporter": "python",
   "pygments_lexer": "ipython3",
   "version": "3.6.5"
  }
 },
 "nbformat": 4,
 "nbformat_minor": 2
}
